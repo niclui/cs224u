{
 "cells": [
  {
   "cell_type": "code",
   "execution_count": 30,
   "metadata": {},
   "outputs": [],
   "source": [
    "import os\n",
    "import pandas as pd\n",
    "import json\n",
    "from sklearn.metrics import classification_report\n",
    "from sklearn.metrics import f1_score, accuracy_score, precision_score, recall_score\n",
    "from dynasent_models import DynaSentModel"
   ]
  },
  {
   "cell_type": "code",
   "execution_count": 5,
   "metadata": {},
   "outputs": [],
   "source": [
    "# `dynasent_model0` should be downloaded from the above Google Drive link and \n",
    "# placed in the `models` directory. `dynasent_model1` works the same way.\n",
    "model = DynaSentModel(os.path.join('models', 'dynasent_model0.bin'))\n"
   ]
  },
  {
   "cell_type": "code",
   "execution_count": 20,
   "metadata": {},
   "outputs": [],
   "source": [
    "# evaluate zeroshot examples\n",
    "\n",
    "with open('zero-shot-examples.json', 'r') as file:\n",
    "    data = json.load(file)\n",
    "    \n",
    "df_zeroshot = pd.DataFrame(data)"
   ]
  },
  {
   "cell_type": "code",
   "execution_count": 22,
   "metadata": {},
   "outputs": [],
   "source": [
    "predictions = model.predict(df_zeroshot['sentence'])\n",
    "f1 = f1_score(predictions, df_zeroshot['label'], average='macro')"
   ]
  },
  {
   "cell_type": "code",
   "execution_count": 31,
   "metadata": {},
   "outputs": [
    {
     "name": "stdout",
     "output_type": "stream",
     "text": [
      "              precision    recall  f1-score   support\n",
      "\n",
      "    negative       0.77      1.00      0.87        37\n",
      "     neutral       1.00      0.67      0.80        36\n",
      "    positive       0.96      1.00      0.98        27\n",
      "\n",
      "    accuracy                           0.88       100\n",
      "   macro avg       0.91      0.89      0.88       100\n",
      "weighted avg       0.91      0.88      0.88       100\n",
      "\n"
     ]
    }
   ],
   "source": [
    "report = classification_report(df_zeroshot['label'], predictions) # seems to be confusing neutral and negative\n",
    "print(report)"
   ]
  },
  {
   "cell_type": "code",
   "execution_count": 32,
   "metadata": {},
   "outputs": [],
   "source": [
    "# evaluate fewshot examples\n",
    "\n",
    "with open('few-shot-examples.json', 'r') as file:\n",
    "    data = json.load(file)\n",
    "    \n",
    "df_fewshot = pd.DataFrame(data)\n"
   ]
  },
  {
   "cell_type": "code",
   "execution_count": 33,
   "metadata": {},
   "outputs": [],
   "source": [
    "predictions_fewshot = model.predict(df_fewshot['sentence'])\n",
    "f1 = f1_score(predictions_fewshot, df_fewshot['label'], average='macro')"
   ]
  },
  {
   "cell_type": "code",
   "execution_count": 34,
   "metadata": {},
   "outputs": [
    {
     "name": "stdout",
     "output_type": "stream",
     "text": [
      "              precision    recall  f1-score   support\n",
      "\n",
      "    negative       0.85      0.95      0.90        37\n",
      "     neutral       0.91      0.65      0.75        31\n",
      "    positive       0.84      0.97      0.90        32\n",
      "\n",
      "    accuracy                           0.86       100\n",
      "   macro avg       0.87      0.85      0.85       100\n",
      "weighted avg       0.87      0.86      0.85       100\n",
      "\n"
     ]
    }
   ],
   "source": [
    "report = classification_report(df_fewshot['label'], predictions_fewshot) # seems to be under-predicting neutral\n",
    "print(report)"
   ]
  }
 ],
 "metadata": {
  "kernelspec": {
   "display_name": "llm_aug",
   "language": "python",
   "name": "python3"
  },
  "language_info": {
   "codemirror_mode": {
    "name": "ipython",
    "version": 3
   },
   "file_extension": ".py",
   "mimetype": "text/x-python",
   "name": "python",
   "nbconvert_exporter": "python",
   "pygments_lexer": "ipython3",
   "version": "3.11.3"
  },
  "orig_nbformat": 4,
  "vscode": {
   "interpreter": {
    "hash": "482cd2bc3318fc1c01681ad8102f2c1eff1884b01fc479b13b3c18fd9b698f60"
   }
  }
 },
 "nbformat": 4,
 "nbformat_minor": 2
}
