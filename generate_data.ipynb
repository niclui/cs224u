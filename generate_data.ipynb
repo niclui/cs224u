{
 "cells": [
  {
   "cell_type": "code",
   "execution_count": 6,
   "metadata": {},
   "outputs": [],
   "source": [
    "import numpy as np\n",
    "import random\n",
    "import openai\n",
    "import json\n",
    "import os"
   ]
  },
  {
   "attachments": {},
   "cell_type": "markdown",
   "metadata": {},
   "source": [
    "Reading in the data"
   ]
  },
  {
   "cell_type": "code",
   "execution_count": 7,
   "metadata": {},
   "outputs": [],
   "source": [
    "# function to load data\n",
    "def load_dataset(*src_filenames, labels=None):\n",
    "    data = []\n",
    "    for filename in src_filenames:\n",
    "        with open(filename) as f:\n",
    "            for line in f:\n",
    "                d = json.loads(line)\n",
    "                if labels is None or d['gold_label'] in labels:\n",
    "                    data.append(d)\n",
    "    return data\n"
   ]
  },
  {
   "cell_type": "code",
   "execution_count": 9,
   "metadata": {},
   "outputs": [],
   "source": [
    "# read in dynasent train data (for use in data augmentation)\n",
    "\n",
    "dynansent_r2_train = os.path.join('dynasent-v1.1', 'dynasent-v1.1-round02-dynabench-train.jsonl')\n",
    "\n",
    "ternary_labels = ('positive', 'negative', 'neutral')\n",
    "\n",
    "r2_train = load_dataset(dynansent_r2_train, labels=ternary_labels)\n",
    "\n",
    "X_train, y_train = zip(*[(d['sentence'], d['gold_label']) for d in r2_train])\n",
    "dataset = (X_train, y_train)\n"
   ]
  },
  {
   "attachments": {},
   "cell_type": "markdown",
   "metadata": {},
   "source": [
    "Sampling for fewshot prompt engineering"
   ]
  },
  {
   "cell_type": "code",
   "execution_count": 24,
   "metadata": {},
   "outputs": [],
   "source": [
    "def fewshotTemplate(sentences, labels):\n",
    "    prompt = [{\"role\": \"system\", \"content\": \"You are a restaurant reviewer. You are leaving a review for the restaurant, and the review sentiment is one of positive, negative, or neutral. Classifying the sentiment should be somewhat difficult; it should not be immediately obvious what the sentiment of the review is. The review should be a single sentence.\"}]\n",
    "    for sentiment, review in zip(labels, sentences):\n",
    "        prompt.append({\"role\": \"user\", \"content\": f\"Please leave a {sentiment} review for a restaurant.\"})\n",
    "        prompt.append({\"role\": \"assistant\", \"content\": review})\n",
    "    return prompt"
   ]
  },
  {
   "attachments": {},
   "cell_type": "markdown",
   "metadata": {},
   "source": [
    "Prompting with GPT-3.5 turbo"
   ]
  },
  {
   "cell_type": "code",
   "execution_count": 39,
   "metadata": {},
   "outputs": [],
   "source": [
    "# get API key\n",
    "with open('openai-key.txt') as f:\n",
    "    lines = f.readlines()\n",
    "openai.api_key = lines[0]"
   ]
  },
  {
   "cell_type": "code",
   "execution_count": 40,
   "metadata": {},
   "outputs": [],
   "source": [
    "# zero-shot prompts\n",
    "\n",
    "def promptZeroshot(sentiment):\n",
    "    MODEL = \"gpt-3.5-turbo\"\n",
    "    \n",
    "    # call API\n",
    "    response = openai.ChatCompletion.create(\n",
    "        model=MODEL,\n",
    "        messages=[\n",
    "            {\"role\": \"system\", \"content\": \"You are a restaurant reviewer. You are leaving a review for the restaurant, and the review sentiment is one of positive, negative, or neutral. Classifying the sentiment should be somewhat difficult; it should not be immediately obvious what the sentiment of the review is. The review should be a single sentence.\"},\n",
    "            {\"role\": \"user\", \"content\": f\"Please leave a {sentiment} review for a restaurant.\"},\n",
    "        ],\n",
    "        temperature=1.5, # allow more creativity in the generation process\n",
    "    )\n",
    "\n",
    "    return(response['choices'][0]['message']['content'])"
   ]
  },
  {
   "cell_type": "code",
   "execution_count": 62,
   "metadata": {},
   "outputs": [],
   "source": [
    "# few-shot prompts\n",
    "\n",
    "def promptFewshot(sentiment, X, y, k=5):\n",
    "    MODEL = \"gpt-3.5-turbo\"\n",
    "            \n",
    "    # create prompt by randomly sampling from provided examples\n",
    "    indices = random.sample(range(len(X)), k)\n",
    "    sentences = X[indices]\n",
    "    labels = y[indices]\n",
    "    prompt = fewshotTemplate(sentences, labels)\n",
    "    \n",
    "    # add instruction to generate a new review\n",
    "    prompt.append({\"role\": \"user\", \"content\": f\"Please leave a {sentiment} review for a restaurant.\"})\n",
    "    \n",
    "    # call API\n",
    "    response = openai.ChatCompletion.create(\n",
    "    model=MODEL,\n",
    "    messages=prompt,\n",
    "    temperature=1.0,\n",
    ")\n",
    "    \n",
    "    # return generated sentence\n",
    "    return(response[\"choices\"][0][\"message\"][\"content\"])\n",
    "\n",
    "    "
   ]
  },
  {
   "cell_type": "code",
   "execution_count": 57,
   "metadata": {},
   "outputs": [],
   "source": [
    "# generate n zero-shot examples\n",
    "\n",
    "def generateZeroshot(n, sentiment_choices=['positive', 'negative', 'neutral']):\n",
    "    labels = []\n",
    "    reviews = []\n",
    "    for _ in range(n):\n",
    "        sentiment = random.choice(sentiment_choices)\n",
    "        review = promptZeroshot(sentiment)\n",
    "        labels.append(sentiment)\n",
    "        reviews.append(review)\n",
    "    return reviews, labels"
   ]
  },
  {
   "cell_type": "code",
   "execution_count": 63,
   "metadata": {},
   "outputs": [],
   "source": [
    "# generate n few-shot examples\n",
    "\n",
    "def generateFewshot(n, X, y, sentiment_choices=['positive', 'negative', 'neutral'], k=5):\n",
    "    labels = []\n",
    "    reviews = []\n",
    "    \n",
    "    for _ in range(n):\n",
    "        \n",
    "        # get indices corresponding to viable sentiments\n",
    "        subset = [index for index, element in enumerate(y) if element in sentiment_choices]\n",
    "        \n",
    "        # subset X, y based on sentiment choices\n",
    "        X, y = np.array(X)[subset], np.array(y)[subset]\n",
    "\n",
    "        # randomly select sentiment\n",
    "        sentiment = random.choice(sentiment_choices)\n",
    "        \n",
    "        review = promptFewshot(sentiment, X, y, k)\n",
    "        labels.append(sentiment)\n",
    "        reviews.append(review)\n",
    "        \n",
    "    return reviews, labels"
   ]
  },
  {
   "attachments": {},
   "cell_type": "markdown",
   "metadata": {},
   "source": [
    "Generating data"
   ]
  },
  {
   "cell_type": "code",
   "execution_count": 58,
   "metadata": {},
   "outputs": [],
   "source": [
    "reviews, labels = generateZeroshot(3)\n",
    "zeroshot_data = [{'sentence': a, 'label': b} for a, b in zip(reviews, labels)]\n",
    "\n",
    "# Save JSON data to a file\n",
    "with open('zero-shot-examples.json', 'w') as json_file:\n",
    "    json.dump(zeroshot_data, json_file)\n"
   ]
  },
  {
   "cell_type": "code",
   "execution_count": 64,
   "metadata": {},
   "outputs": [],
   "source": [
    "reviews, labels = generateFewshot(3, X_train, y_train)\n",
    "fewshot_data = [{'sentence': a, 'label': b} for a, b in zip(reviews, labels)]\n",
    "\n",
    "# Save JSON data to a file\n",
    "with open('few-shot-examples.json', 'w') as json_file:\n",
    "    json.dump(fewshot_data, json_file)\n"
   ]
  }
 ],
 "metadata": {
  "kernelspec": {
   "display_name": "llm_aug",
   "language": "python",
   "name": "python3"
  },
  "language_info": {
   "codemirror_mode": {
    "name": "ipython",
    "version": 3
   },
   "file_extension": ".py",
   "mimetype": "text/x-python",
   "name": "python",
   "nbconvert_exporter": "python",
   "pygments_lexer": "ipython3",
   "version": "3.11.3"
  },
  "orig_nbformat": 4,
  "vscode": {
   "interpreter": {
    "hash": "482cd2bc3318fc1c01681ad8102f2c1eff1884b01fc479b13b3c18fd9b698f60"
   }
  }
 },
 "nbformat": 4,
 "nbformat_minor": 2
}
