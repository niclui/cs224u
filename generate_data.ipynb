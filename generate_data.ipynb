{
 "cells": [
  {
   "cell_type": "code",
   "execution_count": 152,
   "metadata": {},
   "outputs": [],
   "source": [
    "import numpy as np\n",
    "import random\n",
    "import openai"
   ]
  },
  {
   "attachments": {},
   "cell_type": "markdown",
   "metadata": {},
   "source": [
    "Reading in the data"
   ]
  },
  {
   "cell_type": "code",
   "execution_count": 3,
   "metadata": {},
   "outputs": [],
   "source": [
    "import json\n",
    "import os\n",
    "\n",
    "# function to load data\n",
    "def load_dataset(*src_filenames, labels=None):\n",
    "    data = []\n",
    "    for filename in src_filenames:\n",
    "        with open(filename) as f:\n",
    "            for line in f:\n",
    "                d = json.loads(line)\n",
    "                if labels is None or d['gold_label'] in labels:\n",
    "                    data.append(d)\n",
    "    return data\n"
   ]
  },
  {
   "cell_type": "code",
   "execution_count": 24,
   "metadata": {},
   "outputs": [],
   "source": [
    "# read in dynasent train data\n",
    "\n",
    "dynansent_r2_train = os.path.join('dynasent-v1.1', 'dynasent-v1.1-round02-dynabench-train.jsonl')\n",
    "\n",
    "ternary_labels = ('positive', 'negative', 'neutral')\n",
    "\n",
    "r2_train = load_dataset(dynansent_r2_train, labels=ternary_labels)\n",
    "\n",
    "X_train, y_train = zip(*[(d['sentence'], d['gold_label']) for d in r2_train])\n",
    "dataset = (X_train, y_train)\n"
   ]
  },
  {
   "attachments": {},
   "cell_type": "markdown",
   "metadata": {},
   "source": [
    "Templates for fewshot prompt engineering"
   ]
  },
  {
   "cell_type": "code",
   "execution_count": 91,
   "metadata": {},
   "outputs": [],
   "source": [
    "def fewshotTemplate(X, y, indices, label='all'):\n",
    "    prompt = 'Each item in the following list contains a restaurant review and the respective sentiment.' # initialize prompt\n",
    "    \n",
    "    if label == 'all':\n",
    "        prompt += ' The sentiment is one of \"positive\", \"negative\", or \"neutral\".\\n' \n",
    "        for ix in indices:\n",
    "            prompt += f'Review: {X[ix]} (Sentiment: {y[ix]})\\n'\n",
    "    else:\n",
    "        prompt += f' The sentiment is {label}.\\n'\n",
    "        for ix in indices:\n",
    "            prompt += f'Review: {X[ix]}\\n'\n",
    "        \n",
    "    prompt += 'Review: '\n",
    "    \n",
    "    return prompt"
   ]
  },
  {
   "cell_type": "code",
   "execution_count": 82,
   "metadata": {},
   "outputs": [],
   "source": [
    "def generatePrompts(X, y, templateFunction, label='all', n=10, k=5):\n",
    "    prompt_list = []\n",
    "    \n",
    "    # subset data if prompts are not mixed\n",
    "    if label in ['positive', 'negative', 'neutral']:\n",
    "        subset = np.where(np.array(y)==label)\n",
    "        X, y = np.array(X)[subset], np.array(y)[subset]\n",
    "    \n",
    "    # sample from dataset\n",
    "    for _ in range(n):\n",
    "        # randomly sample indices\n",
    "        indices = random.sample(range(len(X)), k)\n",
    "        \n",
    "        # create prompt\n",
    "        prompt = templateFunction(X, y, indices, label)\n",
    "        prompt_list.append(prompt)\n",
    "        \n",
    "    return prompt_list"
   ]
  },
  {
   "cell_type": "code",
   "execution_count": 105,
   "metadata": {},
   "outputs": [],
   "source": [
    "random.seed(888)\n",
    "mixedPrompts = generatePrompts(X_train, y_train, fewshotTemplate, n=10, k=5)\n",
    "posPrompts = generatePrompts(X_train, y_train, fewshotTemplate, label='positive', n=10, k=5)\n",
    "negPrompts = generatePrompts(X_train, y_train, fewshotTemplate, label='negative', n=10, k=5)\n",
    "neuPrompts = generatePrompts(X_train, y_train, fewshotTemplate, label='neutral', n=10, k=5)"
   ]
  },
  {
   "attachments": {},
   "cell_type": "markdown",
   "metadata": {},
   "source": [
    "Zero-shot prompting with GPT-3.5 turbo"
   ]
  },
  {
   "cell_type": "code",
   "execution_count": 106,
   "metadata": {},
   "outputs": [],
   "source": [
    "# get API key\n",
    "with open('openai-key.txt') as f:\n",
    "    lines = f.readlines()\n",
    "openai.api_key = lines[0]"
   ]
  },
  {
   "cell_type": "code",
   "execution_count": 147,
   "metadata": {},
   "outputs": [],
   "source": [
    "def promptZeroshot(sentiment):\n",
    "    \n",
    "    MODEL = \"gpt-3.5-turbo\"\n",
    "    response = openai.ChatCompletion.create(\n",
    "        model=MODEL,\n",
    "        messages=[\n",
    "            {\"role\": \"system\", \"content\": \"You are a restaurant reviewer. You are leaving a review for the restaurant, and the review sentiment is one of positive, negative, or neutral. Classifying the sentiment should be somewhat difficult; it should not be immediately obvious what the sentiment of the review is. The review should be a single sentence.\"},\n",
    "            {\"role\": \"user\", \"content\": f\"Please leave a {sentiment} review for the restaurant.\"},\n",
    "        ],\n",
    "        temperature=1.5, # allow more creativity in the generation process\n",
    "    )\n",
    "\n",
    "    return(response['choices'][0]['message']['content'])"
   ]
  },
  {
   "cell_type": "code",
   "execution_count": null,
   "metadata": {},
   "outputs": [],
   "source": [
    "def promptFewshot(sentiment):\n",
    "    MODEL = \"gpt-3.5-turbo\"\n",
    "    \n",
    "    response = openai.ChatCompletion.create(\n",
    "    model=MODEL,\n",
    "    messages=[\n",
    "        {\"role\": \"system\", \"content\": \"You are a helpful, pattern-following assistant.\"},\n",
    "        {\"role\": \"user\", \"content\": \"Help me translate the following corporate jargon into plain English.\"},\n",
    "        {\"role\": \"assistant\", \"content\": \"Sure, I'd be happy to!\"},\n",
    "        {\"role\": \"user\", \"content\": \"New synergies will help drive top-line growth.\"},\n",
    "        {\"role\": \"assistant\", \"content\": \"Things working well together will increase revenue.\"},\n",
    "        {\"role\": \"user\", \"content\": \"Let's circle back when we have more bandwidth to touch base on opportunities for increased leverage.\"},\n",
    "        {\"role\": \"assistant\", \"content\": \"Let's talk later when we're less busy about how to do better.\"},\n",
    "        {\"role\": \"user\", \"content\": \"This late pivot means we don't have time to boil the ocean for the client deliverable.\"},\n",
    "    ],\n",
    "    temperature=0,\n",
    ")\n",
    "\n",
    "    print(response[\"choices\"][0][\"message\"][\"content\"])\n",
    "\n",
    "    "
   ]
  },
  {
   "cell_type": "code",
   "execution_count": 139,
   "metadata": {},
   "outputs": [],
   "source": [
    "def generateData(prompt, n, sentiments=['positive', 'negative', 'neutral']):\n",
    "    labels = []\n",
    "    reviews = []\n",
    "    for _ in range(n):\n",
    "        sentiment = random.choice(sentiments)\n",
    "        review = prompt(sentiment)\n",
    "        labels.append(sentiment)\n",
    "        reviews.append(review)\n",
    "    return reviews, labels"
   ]
  },
  {
   "cell_type": "code",
   "execution_count": 148,
   "metadata": {},
   "outputs": [],
   "source": [
    "reviews, labels = generateData(promptZeroshot, 50)\n",
    "json_data = [{'sentence': a, 'label': b} for a, b in zip(reviews, labels)]\n",
    "\n",
    "# Save JSON data to a file\n",
    "with open('zero-shot-examples.json', 'w') as json_file:\n",
    "    json.dump(json_data, json_file)\n"
   ]
  },
  {
   "cell_type": "code",
   "execution_count": 156,
   "metadata": {},
   "outputs": [],
   "source": []
  },
  {
   "cell_type": "code",
   "execution_count": 158,
   "metadata": {},
   "outputs": [],
   "source": []
  }
 ],
 "metadata": {
  "kernelspec": {
   "display_name": "llm_aug",
   "language": "python",
   "name": "python3"
  },
  "language_info": {
   "codemirror_mode": {
    "name": "ipython",
    "version": 3
   },
   "file_extension": ".py",
   "mimetype": "text/x-python",
   "name": "python",
   "nbconvert_exporter": "python",
   "pygments_lexer": "ipython3",
   "version": "3.11.3"
  },
  "orig_nbformat": 4,
  "vscode": {
   "interpreter": {
    "hash": "482cd2bc3318fc1c01681ad8102f2c1eff1884b01fc479b13b3c18fd9b698f60"
   }
  }
 },
 "nbformat": 4,
 "nbformat_minor": 2
}
